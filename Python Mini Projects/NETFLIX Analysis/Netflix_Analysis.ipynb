{
 "cells": [
  {
   "cell_type": "markdown",
   "id": "42f6a75d",
   "metadata": {},
   "source": [
    "# Graphical Analysis of Netflix Dataset upto 2019\n",
    "\n"
   ]
  },
  {
   "cell_type": "code",
   "execution_count": 1,
   "id": "25e42f70",
   "metadata": {},
   "outputs": [],
   "source": [
    "# Loading necessary libraries\n",
    "\n",
    "import pandas as pd\n",
    "import numpy as np\n",
    "import matplotlib.pyplot as plt\n",
    "import seaborn as sns\n",
    "%matplotlib inline"
   ]
  },
  {
   "cell_type": "code",
   "execution_count": 2,
   "id": "62b2f3fe",
   "metadata": {},
   "outputs": [
    {
     "data": {
      "text/html": [
       "<div>\n",
       "<style scoped>\n",
       "    .dataframe tbody tr th:only-of-type {\n",
       "        vertical-align: middle;\n",
       "    }\n",
       "\n",
       "    .dataframe tbody tr th {\n",
       "        vertical-align: top;\n",
       "    }\n",
       "\n",
       "    .dataframe thead th {\n",
       "        text-align: right;\n",
       "    }\n",
       "</style>\n",
       "<table border=\"1\" class=\"dataframe\">\n",
       "  <thead>\n",
       "    <tr style=\"text-align: right;\">\n",
       "      <th></th>\n",
       "      <th>show_id</th>\n",
       "      <th>title</th>\n",
       "      <th>director</th>\n",
       "      <th>cast</th>\n",
       "      <th>country</th>\n",
       "      <th>date_added</th>\n",
       "      <th>release_year</th>\n",
       "      <th>rating</th>\n",
       "      <th>duration</th>\n",
       "      <th>listed_in</th>\n",
       "      <th>description</th>\n",
       "      <th>type</th>\n",
       "    </tr>\n",
       "  </thead>\n",
       "  <tbody>\n",
       "    <tr>\n",
       "      <th>0</th>\n",
       "      <td>81193313</td>\n",
       "      <td>Chocolate</td>\n",
       "      <td>NaN</td>\n",
       "      <td>Ha Ji-won, Yoon Kye-sang, Jang Seung-jo, Kang ...</td>\n",
       "      <td>South Korea</td>\n",
       "      <td>November 30, 2019</td>\n",
       "      <td>2019</td>\n",
       "      <td>TV-14</td>\n",
       "      <td>1 Season</td>\n",
       "      <td>International TV Shows, Korean TV Shows, Roman...</td>\n",
       "      <td>Brought together by meaningful meals in the pa...</td>\n",
       "      <td>TV Show</td>\n",
       "    </tr>\n",
       "    <tr>\n",
       "      <th>1</th>\n",
       "      <td>81197050</td>\n",
       "      <td>Guatemala: Heart of the Mayan World</td>\n",
       "      <td>Luis Ara, Ignacio Jaunsolo</td>\n",
       "      <td>Christian Morales</td>\n",
       "      <td>NaN</td>\n",
       "      <td>November 30, 2019</td>\n",
       "      <td>2019</td>\n",
       "      <td>TV-G</td>\n",
       "      <td>67 min</td>\n",
       "      <td>Documentaries, International Movies</td>\n",
       "      <td>From Sierra de las Minas to Esquipulas, explor...</td>\n",
       "      <td>Movie</td>\n",
       "    </tr>\n",
       "    <tr>\n",
       "      <th>2</th>\n",
       "      <td>81213894</td>\n",
       "      <td>The Zoya Factor</td>\n",
       "      <td>Abhishek Sharma</td>\n",
       "      <td>Sonam Kapoor, Dulquer Salmaan, Sanjay Kapoor, ...</td>\n",
       "      <td>India</td>\n",
       "      <td>November 30, 2019</td>\n",
       "      <td>2019</td>\n",
       "      <td>TV-14</td>\n",
       "      <td>135 min</td>\n",
       "      <td>Comedies, Dramas, International Movies</td>\n",
       "      <td>A goofy copywriter unwittingly convinces the I...</td>\n",
       "      <td>Movie</td>\n",
       "    </tr>\n",
       "    <tr>\n",
       "      <th>3</th>\n",
       "      <td>81082007</td>\n",
       "      <td>Atlantics</td>\n",
       "      <td>Mati Diop</td>\n",
       "      <td>Mama Sane, Amadou Mbow, Ibrahima Traore, Nicol...</td>\n",
       "      <td>France, Senegal, Belgium</td>\n",
       "      <td>November 29, 2019</td>\n",
       "      <td>2019</td>\n",
       "      <td>TV-14</td>\n",
       "      <td>106 min</td>\n",
       "      <td>Dramas, Independent Movies, International Movies</td>\n",
       "      <td>Arranged to marry a rich man, young Ada is cru...</td>\n",
       "      <td>Movie</td>\n",
       "    </tr>\n",
       "    <tr>\n",
       "      <th>4</th>\n",
       "      <td>80213643</td>\n",
       "      <td>Chip and Potato</td>\n",
       "      <td>NaN</td>\n",
       "      <td>Abigail Oliver, Andrea Libman, Briana Buckmast...</td>\n",
       "      <td>Canada, United Kingdom</td>\n",
       "      <td>NaN</td>\n",
       "      <td>2019</td>\n",
       "      <td>TV-Y</td>\n",
       "      <td>2 Seasons</td>\n",
       "      <td>Kids' TV</td>\n",
       "      <td>Lovable pug Chip starts kindergarten, makes ne...</td>\n",
       "      <td>TV Show</td>\n",
       "    </tr>\n",
       "    <tr>\n",
       "      <th>...</th>\n",
       "      <td>...</td>\n",
       "      <td>...</td>\n",
       "      <td>...</td>\n",
       "      <td>...</td>\n",
       "      <td>...</td>\n",
       "      <td>...</td>\n",
       "      <td>...</td>\n",
       "      <td>...</td>\n",
       "      <td>...</td>\n",
       "      <td>...</td>\n",
       "      <td>...</td>\n",
       "      <td>...</td>\n",
       "    </tr>\n",
       "    <tr>\n",
       "      <th>5832</th>\n",
       "      <td>70141644</td>\n",
       "      <td>Mad Ron's Prevues from Hell</td>\n",
       "      <td>Jim Monaco</td>\n",
       "      <td>Nick Pawlow, Jordu Schell, Jay Kushwara, Micha...</td>\n",
       "      <td>United States</td>\n",
       "      <td>November 1, 2010</td>\n",
       "      <td>1987</td>\n",
       "      <td>NR</td>\n",
       "      <td>84 min</td>\n",
       "      <td>Cult Movies, Horror Movies</td>\n",
       "      <td>This collection cherry-picks trailers, forgott...</td>\n",
       "      <td>Movie</td>\n",
       "    </tr>\n",
       "    <tr>\n",
       "      <th>5833</th>\n",
       "      <td>70127998</td>\n",
       "      <td>Splatter</td>\n",
       "      <td>Joe Dante</td>\n",
       "      <td>Corey Feldman, Tony Todd, Tara Leigh, Erin Way...</td>\n",
       "      <td>United States</td>\n",
       "      <td>November 18, 2009</td>\n",
       "      <td>2009</td>\n",
       "      <td>TV-14</td>\n",
       "      <td>29 min</td>\n",
       "      <td>Horror Movies</td>\n",
       "      <td>After committing suicide, a washed-up rocker r...</td>\n",
       "      <td>Movie</td>\n",
       "    </tr>\n",
       "    <tr>\n",
       "      <th>5834</th>\n",
       "      <td>70084180</td>\n",
       "      <td>Just Another Love Story</td>\n",
       "      <td>Ole Bornedal</td>\n",
       "      <td>Anders W. Berthelsen, Rebecka Hemse, Nikolaj L...</td>\n",
       "      <td>Denmark</td>\n",
       "      <td>May 5, 2009</td>\n",
       "      <td>2007</td>\n",
       "      <td>NR</td>\n",
       "      <td>104 min</td>\n",
       "      <td>Dramas, International Movies</td>\n",
       "      <td>When he causes a car accident that leaves a yo...</td>\n",
       "      <td>Movie</td>\n",
       "    </tr>\n",
       "    <tr>\n",
       "      <th>5835</th>\n",
       "      <td>70157452</td>\n",
       "      <td>Dinner for Five</td>\n",
       "      <td>NaN</td>\n",
       "      <td>NaN</td>\n",
       "      <td>United States</td>\n",
       "      <td>February 4, 2008</td>\n",
       "      <td>2007</td>\n",
       "      <td>TV-MA</td>\n",
       "      <td>1 Season</td>\n",
       "      <td>Stand-Up Comedy &amp; Talk Shows</td>\n",
       "      <td>In each episode, four celebrities join host Jo...</td>\n",
       "      <td>TV Show</td>\n",
       "    </tr>\n",
       "    <tr>\n",
       "      <th>5836</th>\n",
       "      <td>70053412</td>\n",
       "      <td>To and From New York</td>\n",
       "      <td>Sorin Dan Mihalcescu</td>\n",
       "      <td>Barbara King, Shaana Diya, John Krisiukenas, Y...</td>\n",
       "      <td>United States</td>\n",
       "      <td>January 1, 2008</td>\n",
       "      <td>2006</td>\n",
       "      <td>NR</td>\n",
       "      <td>81 min</td>\n",
       "      <td>Dramas, Independent Movies, Thrillers</td>\n",
       "      <td>While covering a story in New York City, a Sea...</td>\n",
       "      <td>Movie</td>\n",
       "    </tr>\n",
       "  </tbody>\n",
       "</table>\n",
       "<p>5837 rows × 12 columns</p>\n",
       "</div>"
      ],
      "text/plain": [
       "       show_id                                title  \\\n",
       "0     81193313                            Chocolate   \n",
       "1     81197050  Guatemala: Heart of the Mayan World   \n",
       "2     81213894                      The Zoya Factor   \n",
       "3     81082007                            Atlantics   \n",
       "4     80213643                      Chip and Potato   \n",
       "...        ...                                  ...   \n",
       "5832  70141644          Mad Ron's Prevues from Hell   \n",
       "5833  70127998                             Splatter   \n",
       "5834  70084180              Just Another Love Story   \n",
       "5835  70157452                      Dinner for Five   \n",
       "5836  70053412                 To and From New York   \n",
       "\n",
       "                        director  \\\n",
       "0                            NaN   \n",
       "1     Luis Ara, Ignacio Jaunsolo   \n",
       "2                Abhishek Sharma   \n",
       "3                      Mati Diop   \n",
       "4                            NaN   \n",
       "...                          ...   \n",
       "5832                  Jim Monaco   \n",
       "5833                   Joe Dante   \n",
       "5834                Ole Bornedal   \n",
       "5835                         NaN   \n",
       "5836        Sorin Dan Mihalcescu   \n",
       "\n",
       "                                                   cast  \\\n",
       "0     Ha Ji-won, Yoon Kye-sang, Jang Seung-jo, Kang ...   \n",
       "1                                     Christian Morales   \n",
       "2     Sonam Kapoor, Dulquer Salmaan, Sanjay Kapoor, ...   \n",
       "3     Mama Sane, Amadou Mbow, Ibrahima Traore, Nicol...   \n",
       "4     Abigail Oliver, Andrea Libman, Briana Buckmast...   \n",
       "...                                                 ...   \n",
       "5832  Nick Pawlow, Jordu Schell, Jay Kushwara, Micha...   \n",
       "5833  Corey Feldman, Tony Todd, Tara Leigh, Erin Way...   \n",
       "5834  Anders W. Berthelsen, Rebecka Hemse, Nikolaj L...   \n",
       "5835                                                NaN   \n",
       "5836  Barbara King, Shaana Diya, John Krisiukenas, Y...   \n",
       "\n",
       "                       country         date_added  release_year rating  \\\n",
       "0                  South Korea  November 30, 2019          2019  TV-14   \n",
       "1                          NaN  November 30, 2019          2019   TV-G   \n",
       "2                        India  November 30, 2019          2019  TV-14   \n",
       "3     France, Senegal, Belgium  November 29, 2019          2019  TV-14   \n",
       "4       Canada, United Kingdom                NaN          2019   TV-Y   \n",
       "...                        ...                ...           ...    ...   \n",
       "5832             United States   November 1, 2010          1987     NR   \n",
       "5833             United States  November 18, 2009          2009  TV-14   \n",
       "5834                   Denmark        May 5, 2009          2007     NR   \n",
       "5835             United States   February 4, 2008          2007  TV-MA   \n",
       "5836             United States    January 1, 2008          2006     NR   \n",
       "\n",
       "       duration                                          listed_in  \\\n",
       "0      1 Season  International TV Shows, Korean TV Shows, Roman...   \n",
       "1        67 min                Documentaries, International Movies   \n",
       "2       135 min             Comedies, Dramas, International Movies   \n",
       "3       106 min   Dramas, Independent Movies, International Movies   \n",
       "4     2 Seasons                                           Kids' TV   \n",
       "...         ...                                                ...   \n",
       "5832     84 min                         Cult Movies, Horror Movies   \n",
       "5833     29 min                                      Horror Movies   \n",
       "5834    104 min                       Dramas, International Movies   \n",
       "5835   1 Season                       Stand-Up Comedy & Talk Shows   \n",
       "5836     81 min              Dramas, Independent Movies, Thrillers   \n",
       "\n",
       "                                            description     type  \n",
       "0     Brought together by meaningful meals in the pa...  TV Show  \n",
       "1     From Sierra de las Minas to Esquipulas, explor...    Movie  \n",
       "2     A goofy copywriter unwittingly convinces the I...    Movie  \n",
       "3     Arranged to marry a rich man, young Ada is cru...    Movie  \n",
       "4     Lovable pug Chip starts kindergarten, makes ne...  TV Show  \n",
       "...                                                 ...      ...  \n",
       "5832  This collection cherry-picks trailers, forgott...    Movie  \n",
       "5833  After committing suicide, a washed-up rocker r...    Movie  \n",
       "5834  When he causes a car accident that leaves a yo...    Movie  \n",
       "5835  In each episode, four celebrities join host Jo...  TV Show  \n",
       "5836  While covering a story in New York City, a Sea...    Movie  \n",
       "\n",
       "[5837 rows x 12 columns]"
      ]
     },
     "execution_count": 2,
     "metadata": {},
     "output_type": "execute_result"
    }
   ],
   "source": [
    "# Loading the dataset to a variable df\n",
    "\n",
    "df = pd.read_csv('Dataset/netflix_titles_nov_2019.csv')\n",
    "df"
   ]
  },
  {
   "cell_type": "markdown",
   "id": "4362c4a0",
   "metadata": {},
   "source": [
    "# EDA"
   ]
  },
  {
   "cell_type": "code",
   "execution_count": 3,
   "id": "e75573fc",
   "metadata": {},
   "outputs": [
    {
     "data": {
      "text/plain": [
       "(5837, 12)"
      ]
     },
     "execution_count": 3,
     "metadata": {},
     "output_type": "execute_result"
    }
   ],
   "source": [
    "# To check number of rows and columns in a dataframe\n",
    "df.shape"
   ]
  },
  {
   "cell_type": "code",
   "execution_count": 4,
   "id": "1a68aa6d",
   "metadata": {},
   "outputs": [
    {
     "data": {
      "text/html": [
       "<div>\n",
       "<style scoped>\n",
       "    .dataframe tbody tr th:only-of-type {\n",
       "        vertical-align: middle;\n",
       "    }\n",
       "\n",
       "    .dataframe tbody tr th {\n",
       "        vertical-align: top;\n",
       "    }\n",
       "\n",
       "    .dataframe thead th {\n",
       "        text-align: right;\n",
       "    }\n",
       "</style>\n",
       "<table border=\"1\" class=\"dataframe\">\n",
       "  <thead>\n",
       "    <tr style=\"text-align: right;\">\n",
       "      <th></th>\n",
       "      <th>show_id</th>\n",
       "      <th>title</th>\n",
       "      <th>director</th>\n",
       "      <th>cast</th>\n",
       "      <th>country</th>\n",
       "      <th>date_added</th>\n",
       "      <th>release_year</th>\n",
       "      <th>rating</th>\n",
       "      <th>duration</th>\n",
       "      <th>listed_in</th>\n",
       "      <th>description</th>\n",
       "      <th>type</th>\n",
       "    </tr>\n",
       "  </thead>\n",
       "  <tbody>\n",
       "    <tr>\n",
       "      <th>count</th>\n",
       "      <td>5.837000e+03</td>\n",
       "      <td>5837</td>\n",
       "      <td>3936</td>\n",
       "      <td>5281</td>\n",
       "      <td>5410</td>\n",
       "      <td>5195</td>\n",
       "      <td>5837.000000</td>\n",
       "      <td>5827</td>\n",
       "      <td>5837</td>\n",
       "      <td>5837</td>\n",
       "      <td>5837</td>\n",
       "      <td>5837</td>\n",
       "    </tr>\n",
       "    <tr>\n",
       "      <th>unique</th>\n",
       "      <td>NaN</td>\n",
       "      <td>5780</td>\n",
       "      <td>3108</td>\n",
       "      <td>5087</td>\n",
       "      <td>527</td>\n",
       "      <td>1092</td>\n",
       "      <td>NaN</td>\n",
       "      <td>14</td>\n",
       "      <td>194</td>\n",
       "      <td>449</td>\n",
       "      <td>5829</td>\n",
       "      <td>2</td>\n",
       "    </tr>\n",
       "    <tr>\n",
       "      <th>top</th>\n",
       "      <td>NaN</td>\n",
       "      <td>Tunnel</td>\n",
       "      <td>Raúl Campos, Jan Suter</td>\n",
       "      <td>David Attenborough</td>\n",
       "      <td>United States</td>\n",
       "      <td>November 1, 2019</td>\n",
       "      <td>NaN</td>\n",
       "      <td>TV-MA</td>\n",
       "      <td>1 Season</td>\n",
       "      <td>Documentaries</td>\n",
       "      <td>A surly septuagenarian gets another chance at ...</td>\n",
       "      <td>Movie</td>\n",
       "    </tr>\n",
       "    <tr>\n",
       "      <th>freq</th>\n",
       "      <td>NaN</td>\n",
       "      <td>3</td>\n",
       "      <td>18</td>\n",
       "      <td>18</td>\n",
       "      <td>1907</td>\n",
       "      <td>94</td>\n",
       "      <td>NaN</td>\n",
       "      <td>1937</td>\n",
       "      <td>1259</td>\n",
       "      <td>297</td>\n",
       "      <td>3</td>\n",
       "      <td>3939</td>\n",
       "    </tr>\n",
       "    <tr>\n",
       "      <th>mean</th>\n",
       "      <td>7.730079e+07</td>\n",
       "      <td>NaN</td>\n",
       "      <td>NaN</td>\n",
       "      <td>NaN</td>\n",
       "      <td>NaN</td>\n",
       "      <td>NaN</td>\n",
       "      <td>2013.688539</td>\n",
       "      <td>NaN</td>\n",
       "      <td>NaN</td>\n",
       "      <td>NaN</td>\n",
       "      <td>NaN</td>\n",
       "      <td>NaN</td>\n",
       "    </tr>\n",
       "    <tr>\n",
       "      <th>std</th>\n",
       "      <td>9.479777e+06</td>\n",
       "      <td>NaN</td>\n",
       "      <td>NaN</td>\n",
       "      <td>NaN</td>\n",
       "      <td>NaN</td>\n",
       "      <td>NaN</td>\n",
       "      <td>8.419088</td>\n",
       "      <td>NaN</td>\n",
       "      <td>NaN</td>\n",
       "      <td>NaN</td>\n",
       "      <td>NaN</td>\n",
       "      <td>NaN</td>\n",
       "    </tr>\n",
       "    <tr>\n",
       "      <th>min</th>\n",
       "      <td>2.698800e+05</td>\n",
       "      <td>NaN</td>\n",
       "      <td>NaN</td>\n",
       "      <td>NaN</td>\n",
       "      <td>NaN</td>\n",
       "      <td>NaN</td>\n",
       "      <td>1925.000000</td>\n",
       "      <td>NaN</td>\n",
       "      <td>NaN</td>\n",
       "      <td>NaN</td>\n",
       "      <td>NaN</td>\n",
       "      <td>NaN</td>\n",
       "    </tr>\n",
       "    <tr>\n",
       "      <th>25%</th>\n",
       "      <td>8.004520e+07</td>\n",
       "      <td>NaN</td>\n",
       "      <td>NaN</td>\n",
       "      <td>NaN</td>\n",
       "      <td>NaN</td>\n",
       "      <td>NaN</td>\n",
       "      <td>2013.000000</td>\n",
       "      <td>NaN</td>\n",
       "      <td>NaN</td>\n",
       "      <td>NaN</td>\n",
       "      <td>NaN</td>\n",
       "      <td>NaN</td>\n",
       "    </tr>\n",
       "    <tr>\n",
       "      <th>50%</th>\n",
       "      <td>8.016353e+07</td>\n",
       "      <td>NaN</td>\n",
       "      <td>NaN</td>\n",
       "      <td>NaN</td>\n",
       "      <td>NaN</td>\n",
       "      <td>NaN</td>\n",
       "      <td>2016.000000</td>\n",
       "      <td>NaN</td>\n",
       "      <td>NaN</td>\n",
       "      <td>NaN</td>\n",
       "      <td>NaN</td>\n",
       "      <td>NaN</td>\n",
       "    </tr>\n",
       "    <tr>\n",
       "      <th>75%</th>\n",
       "      <td>8.024188e+07</td>\n",
       "      <td>NaN</td>\n",
       "      <td>NaN</td>\n",
       "      <td>NaN</td>\n",
       "      <td>NaN</td>\n",
       "      <td>NaN</td>\n",
       "      <td>2018.000000</td>\n",
       "      <td>NaN</td>\n",
       "      <td>NaN</td>\n",
       "      <td>NaN</td>\n",
       "      <td>NaN</td>\n",
       "      <td>NaN</td>\n",
       "    </tr>\n",
       "    <tr>\n",
       "      <th>max</th>\n",
       "      <td>8.122720e+07</td>\n",
       "      <td>NaN</td>\n",
       "      <td>NaN</td>\n",
       "      <td>NaN</td>\n",
       "      <td>NaN</td>\n",
       "      <td>NaN</td>\n",
       "      <td>2020.000000</td>\n",
       "      <td>NaN</td>\n",
       "      <td>NaN</td>\n",
       "      <td>NaN</td>\n",
       "      <td>NaN</td>\n",
       "      <td>NaN</td>\n",
       "    </tr>\n",
       "  </tbody>\n",
       "</table>\n",
       "</div>"
      ],
      "text/plain": [
       "             show_id   title                director                cast  \\\n",
       "count   5.837000e+03    5837                    3936                5281   \n",
       "unique           NaN    5780                    3108                5087   \n",
       "top              NaN  Tunnel  Raúl Campos, Jan Suter  David Attenborough   \n",
       "freq             NaN       3                      18                  18   \n",
       "mean    7.730079e+07     NaN                     NaN                 NaN   \n",
       "std     9.479777e+06     NaN                     NaN                 NaN   \n",
       "min     2.698800e+05     NaN                     NaN                 NaN   \n",
       "25%     8.004520e+07     NaN                     NaN                 NaN   \n",
       "50%     8.016353e+07     NaN                     NaN                 NaN   \n",
       "75%     8.024188e+07     NaN                     NaN                 NaN   \n",
       "max     8.122720e+07     NaN                     NaN                 NaN   \n",
       "\n",
       "              country        date_added  release_year rating  duration  \\\n",
       "count            5410              5195   5837.000000   5827      5837   \n",
       "unique            527              1092           NaN     14       194   \n",
       "top     United States  November 1, 2019           NaN  TV-MA  1 Season   \n",
       "freq             1907                94           NaN   1937      1259   \n",
       "mean              NaN               NaN   2013.688539    NaN       NaN   \n",
       "std               NaN               NaN      8.419088    NaN       NaN   \n",
       "min               NaN               NaN   1925.000000    NaN       NaN   \n",
       "25%               NaN               NaN   2013.000000    NaN       NaN   \n",
       "50%               NaN               NaN   2016.000000    NaN       NaN   \n",
       "75%               NaN               NaN   2018.000000    NaN       NaN   \n",
       "max               NaN               NaN   2020.000000    NaN       NaN   \n",
       "\n",
       "            listed_in                                        description  \\\n",
       "count            5837                                               5837   \n",
       "unique            449                                               5829   \n",
       "top     Documentaries  A surly septuagenarian gets another chance at ...   \n",
       "freq              297                                                  3   \n",
       "mean              NaN                                                NaN   \n",
       "std               NaN                                                NaN   \n",
       "min               NaN                                                NaN   \n",
       "25%               NaN                                                NaN   \n",
       "50%               NaN                                                NaN   \n",
       "75%               NaN                                                NaN   \n",
       "max               NaN                                                NaN   \n",
       "\n",
       "         type  \n",
       "count    5837  \n",
       "unique      2  \n",
       "top     Movie  \n",
       "freq     3939  \n",
       "mean      NaN  \n",
       "std       NaN  \n",
       "min       NaN  \n",
       "25%       NaN  \n",
       "50%       NaN  \n",
       "75%       NaN  \n",
       "max       NaN  "
      ]
     },
     "execution_count": 4,
     "metadata": {},
     "output_type": "execute_result"
    }
   ],
   "source": [
    "# code to show statistical data\n",
    "\n",
    "df.describe(include='all')"
   ]
  },
  {
   "cell_type": "code",
   "execution_count": 5,
   "id": "96d5f721",
   "metadata": {},
   "outputs": [
    {
     "data": {
      "text/plain": [
       "show_id            0\n",
       "title              0\n",
       "director        1901\n",
       "cast             556\n",
       "country          427\n",
       "date_added       642\n",
       "release_year       0\n",
       "rating            10\n",
       "duration           0\n",
       "listed_in          0\n",
       "description        0\n",
       "type               0\n",
       "dtype: int64"
      ]
     },
     "execution_count": 5,
     "metadata": {},
     "output_type": "execute_result"
    }
   ],
   "source": [
    "# Count of null values each column has\n",
    "\n",
    "df.isnull().sum()"
   ]
  },
  {
   "cell_type": "code",
   "execution_count": 6,
   "id": "b314cf69",
   "metadata": {},
   "outputs": [
    {
     "data": {
      "text/plain": [
       "Movie      3939\n",
       "TV Show    1898\n",
       "Name: type, dtype: int64"
      ]
     },
     "execution_count": 6,
     "metadata": {},
     "output_type": "execute_result"
    }
   ],
   "source": [
    "# Counts of each label in type column\n",
    "df.type.value_counts()"
   ]
  },
  {
   "cell_type": "code",
   "execution_count": 7,
   "id": "0716fd06",
   "metadata": {},
   "outputs": [
    {
     "data": {
      "text/plain": [
       "show_id            0\n",
       "title              0\n",
       "director        1901\n",
       "cast             208\n",
       "country          283\n",
       "date_added       607\n",
       "release_year       0\n",
       "rating             4\n",
       "duration           0\n",
       "listed_in          0\n",
       "description        0\n",
       "type               0\n",
       "dtype: int64"
      ]
     },
     "execution_count": 7,
     "metadata": {},
     "output_type": "execute_result"
    }
   ],
   "source": [
    "# Gives the count of null values in other column wherever director is null\n",
    "df[df['director'].isnull()].isnull().sum()"
   ]
  },
  {
   "cell_type": "code",
   "execution_count": 8,
   "id": "8bd7deed",
   "metadata": {},
   "outputs": [
    {
     "data": {
      "text/plain": [
       "show_id           0\n",
       "title             0\n",
       "director        208\n",
       "cast            556\n",
       "country          80\n",
       "date_added       45\n",
       "release_year      0\n",
       "rating            3\n",
       "duration          0\n",
       "listed_in         0\n",
       "description       0\n",
       "type              0\n",
       "dtype: int64"
      ]
     },
     "execution_count": 8,
     "metadata": {},
     "output_type": "execute_result"
    }
   ],
   "source": [
    "# Gives the count of null values in other column wherever cast is null\n",
    "df[df['cast'].isnull()].isnull().sum()"
   ]
  },
  {
   "cell_type": "code",
   "execution_count": 9,
   "id": "f51d1d61",
   "metadata": {},
   "outputs": [
    {
     "data": {
      "text/plain": [
       "show_id           0\n",
       "title             0\n",
       "director        283\n",
       "cast             80\n",
       "country         427\n",
       "date_added       31\n",
       "release_year      0\n",
       "rating            4\n",
       "duration          0\n",
       "listed_in         0\n",
       "description       0\n",
       "type              0\n",
       "dtype: int64"
      ]
     },
     "execution_count": 9,
     "metadata": {},
     "output_type": "execute_result"
    }
   ],
   "source": [
    "# Gives the count of null values in other column wherever country is null\n",
    "df[df['country'].isnull()].isnull().sum()"
   ]
  },
  {
   "cell_type": "code",
   "execution_count": 10,
   "id": "53d7e5e4",
   "metadata": {},
   "outputs": [
    {
     "data": {
      "text/plain": [
       "show_id           0\n",
       "title             0\n",
       "director        607\n",
       "cast             45\n",
       "country          31\n",
       "date_added      642\n",
       "release_year      0\n",
       "rating            1\n",
       "duration          0\n",
       "listed_in         0\n",
       "description       0\n",
       "type              0\n",
       "dtype: int64"
      ]
     },
     "execution_count": 10,
     "metadata": {},
     "output_type": "execute_result"
    }
   ],
   "source": [
    "# Gives the count of null values in other column wherever date_added is null\n",
    "df[df['date_added'].isnull()].isnull().sum()"
   ]
  },
  {
   "cell_type": "code",
   "execution_count": 11,
   "id": "c03fd952",
   "metadata": {},
   "outputs": [],
   "source": [
    "### Wherever director is null there are maximum nulls in other columns too"
   ]
  },
  {
   "cell_type": "code",
   "execution_count": 12,
   "id": "02333f19",
   "metadata": {},
   "outputs": [],
   "source": [
    "dir1 = df[df['director'].isnull()]\n",
    "cast = df[df['cast'].isnull()]\n",
    "country = df[df['country'].isnull()]\n",
    "date_ad = df[df['date_added'].isnull()] "
   ]
  },
  {
   "cell_type": "code",
   "execution_count": 13,
   "id": "05eb4853",
   "metadata": {},
   "outputs": [
    {
     "data": {
      "text/html": [
       "<div>\n",
       "<style scoped>\n",
       "    .dataframe tbody tr th:only-of-type {\n",
       "        vertical-align: middle;\n",
       "    }\n",
       "\n",
       "    .dataframe tbody tr th {\n",
       "        vertical-align: top;\n",
       "    }\n",
       "\n",
       "    .dataframe thead th {\n",
       "        text-align: right;\n",
       "    }\n",
       "</style>\n",
       "<table border=\"1\" class=\"dataframe\">\n",
       "  <thead>\n",
       "    <tr style=\"text-align: right;\">\n",
       "      <th></th>\n",
       "      <th>show_id</th>\n",
       "      <th>title</th>\n",
       "      <th>director</th>\n",
       "      <th>cast</th>\n",
       "      <th>country</th>\n",
       "      <th>date_added</th>\n",
       "      <th>release_year</th>\n",
       "      <th>rating</th>\n",
       "      <th>duration</th>\n",
       "      <th>listed_in</th>\n",
       "      <th>...</th>\n",
       "      <th>director</th>\n",
       "      <th>cast</th>\n",
       "      <th>country</th>\n",
       "      <th>date_added</th>\n",
       "      <th>release_year</th>\n",
       "      <th>rating</th>\n",
       "      <th>duration</th>\n",
       "      <th>listed_in</th>\n",
       "      <th>description</th>\n",
       "      <th>type</th>\n",
       "    </tr>\n",
       "  </thead>\n",
       "  <tbody>\n",
       "    <tr>\n",
       "      <th>317</th>\n",
       "      <td>81192130</td>\n",
       "      <td>ChuChu TV Kids Songs, Learning Videos &amp; Bedtim...</td>\n",
       "      <td>Data not available</td>\n",
       "      <td>Data not available</td>\n",
       "      <td>Data not available</td>\n",
       "      <td>Data not available</td>\n",
       "      <td>2019</td>\n",
       "      <td>TV-Y</td>\n",
       "      <td>2 Seasons</td>\n",
       "      <td>Kids' TV</td>\n",
       "      <td>...</td>\n",
       "      <td>Data not available</td>\n",
       "      <td>Data not available</td>\n",
       "      <td>Data not available</td>\n",
       "      <td>Data not available</td>\n",
       "      <td>2019</td>\n",
       "      <td>TV-Y</td>\n",
       "      <td>2 Seasons</td>\n",
       "      <td>Kids' TV</td>\n",
       "      <td>This educational series for tiny tots features...</td>\n",
       "      <td>TV Show</td>\n",
       "    </tr>\n",
       "    <tr>\n",
       "      <th>684</th>\n",
       "      <td>80211492</td>\n",
       "      <td>Mighty Little Bheem</td>\n",
       "      <td>Data not available</td>\n",
       "      <td>Data not available</td>\n",
       "      <td>Data not available</td>\n",
       "      <td>Data not available</td>\n",
       "      <td>2019</td>\n",
       "      <td>TV-Y</td>\n",
       "      <td>2 Seasons</td>\n",
       "      <td>Kids' TV, TV Comedies</td>\n",
       "      <td>...</td>\n",
       "      <td>Data not available</td>\n",
       "      <td>Data not available</td>\n",
       "      <td>Data not available</td>\n",
       "      <td>Data not available</td>\n",
       "      <td>2019</td>\n",
       "      <td>TV-Y</td>\n",
       "      <td>2 Seasons</td>\n",
       "      <td>Kids' TV, TV Comedies</td>\n",
       "      <td>An innocent toddler’s boundless curiosity – an...</td>\n",
       "      <td>TV Show</td>\n",
       "    </tr>\n",
       "    <tr>\n",
       "      <th>1028</th>\n",
       "      <td>81100135</td>\n",
       "      <td>Zombie Dumb</td>\n",
       "      <td>Data not available</td>\n",
       "      <td>Data not available</td>\n",
       "      <td>Data not available</td>\n",
       "      <td>Data not available</td>\n",
       "      <td>2018</td>\n",
       "      <td>TV-Y7</td>\n",
       "      <td>2 Seasons</td>\n",
       "      <td>Kids' TV, Korean TV Shows, TV Comedies</td>\n",
       "      <td>...</td>\n",
       "      <td>Data not available</td>\n",
       "      <td>Data not available</td>\n",
       "      <td>Data not available</td>\n",
       "      <td>Data not available</td>\n",
       "      <td>2018</td>\n",
       "      <td>TV-Y7</td>\n",
       "      <td>2 Seasons</td>\n",
       "      <td>Kids' TV, Korean TV Shows, TV Comedies</td>\n",
       "      <td>While living alone in a spooky town, a young g...</td>\n",
       "      <td>TV Show</td>\n",
       "    </tr>\n",
       "    <tr>\n",
       "      <th>5339</th>\n",
       "      <td>80116008</td>\n",
       "      <td>Little Baby Bum: Nursery Rhyme Friends</td>\n",
       "      <td>Data not available</td>\n",
       "      <td>Data not available</td>\n",
       "      <td>Data not available</td>\n",
       "      <td>Data not available</td>\n",
       "      <td>2016</td>\n",
       "      <td>Data not available</td>\n",
       "      <td>60 min</td>\n",
       "      <td>Movies</td>\n",
       "      <td>...</td>\n",
       "      <td>Data not available</td>\n",
       "      <td>Data not available</td>\n",
       "      <td>Data not available</td>\n",
       "      <td>Data not available</td>\n",
       "      <td>2016</td>\n",
       "      <td>Data not available</td>\n",
       "      <td>60 min</td>\n",
       "      <td>Movies</td>\n",
       "      <td>Nursery rhymes and original music for children...</td>\n",
       "      <td>Movie</td>\n",
       "    </tr>\n",
       "  </tbody>\n",
       "</table>\n",
       "<p>4 rows × 48 columns</p>\n",
       "</div>"
      ],
      "text/plain": [
       "       show_id                                              title  \\\n",
       "317   81192130  ChuChu TV Kids Songs, Learning Videos & Bedtim...   \n",
       "684   80211492                                Mighty Little Bheem   \n",
       "1028  81100135                                        Zombie Dumb   \n",
       "5339  80116008             Little Baby Bum: Nursery Rhyme Friends   \n",
       "\n",
       "                director                cast             country  \\\n",
       "317   Data not available  Data not available  Data not available   \n",
       "684   Data not available  Data not available  Data not available   \n",
       "1028  Data not available  Data not available  Data not available   \n",
       "5339  Data not available  Data not available  Data not available   \n",
       "\n",
       "              date_added release_year              rating   duration  \\\n",
       "317   Data not available         2019                TV-Y  2 Seasons   \n",
       "684   Data not available         2019                TV-Y  2 Seasons   \n",
       "1028  Data not available         2018               TV-Y7  2 Seasons   \n",
       "5339  Data not available         2016  Data not available     60 min   \n",
       "\n",
       "                                   listed_in  ...            director  \\\n",
       "317                                 Kids' TV  ...  Data not available   \n",
       "684                    Kids' TV, TV Comedies  ...  Data not available   \n",
       "1028  Kids' TV, Korean TV Shows, TV Comedies  ...  Data not available   \n",
       "5339                                  Movies  ...  Data not available   \n",
       "\n",
       "                    cast             country          date_added release_year  \\\n",
       "317   Data not available  Data not available  Data not available         2019   \n",
       "684   Data not available  Data not available  Data not available         2019   \n",
       "1028  Data not available  Data not available  Data not available         2018   \n",
       "5339  Data not available  Data not available  Data not available         2016   \n",
       "\n",
       "                  rating   duration                               listed_in  \\\n",
       "317                 TV-Y  2 Seasons                                Kids' TV   \n",
       "684                 TV-Y  2 Seasons                   Kids' TV, TV Comedies   \n",
       "1028               TV-Y7  2 Seasons  Kids' TV, Korean TV Shows, TV Comedies   \n",
       "5339  Data not available     60 min                                  Movies   \n",
       "\n",
       "                                            description     type  \n",
       "317   This educational series for tiny tots features...  TV Show  \n",
       "684   An innocent toddler’s boundless curiosity – an...  TV Show  \n",
       "1028  While living alone in a spooky town, a young g...  TV Show  \n",
       "5339  Nursery rhymes and original music for children...    Movie  \n",
       "\n",
       "[4 rows x 48 columns]"
      ]
     },
     "execution_count": 13,
     "metadata": {},
     "output_type": "execute_result"
    }
   ],
   "source": [
    "# Rows where all four columns are null i.e director,cast,country,date_added\n",
    "\n",
    "dfs = [dir1,cast,country,date_ad]\n",
    "nan_value = 'Data not available'\n",
    "\n",
    "# solution 1 (fast)\n",
    "result_1 = pd.concat(dfs, join='inner', axis=1).fillna(nan_value)\n",
    "result_1"
   ]
  },
  {
   "cell_type": "code",
   "execution_count": 14,
   "id": "8449efd5",
   "metadata": {},
   "outputs": [
    {
     "name": "stdout",
     "output_type": "stream",
     "text": [
      "<class 'pandas.core.frame.DataFrame'>\n",
      "RangeIndex: 5837 entries, 0 to 5836\n",
      "Data columns (total 12 columns):\n",
      " #   Column        Non-Null Count  Dtype \n",
      "---  ------        --------------  ----- \n",
      " 0   show_id       5837 non-null   int64 \n",
      " 1   title         5837 non-null   object\n",
      " 2   director      3936 non-null   object\n",
      " 3   cast          5281 non-null   object\n",
      " 4   country       5410 non-null   object\n",
      " 5   date_added    5195 non-null   object\n",
      " 6   release_year  5837 non-null   int64 \n",
      " 7   rating        5827 non-null   object\n",
      " 8   duration      5837 non-null   object\n",
      " 9   listed_in     5837 non-null   object\n",
      " 10  description   5837 non-null   object\n",
      " 11  type          5837 non-null   object\n",
      "dtypes: int64(2), object(10)\n",
      "memory usage: 547.3+ KB\n"
     ]
    }
   ],
   "source": [
    "# to get the info of all columns and its datatypes\n",
    "df.info()"
   ]
  },
  {
   "cell_type": "code",
   "execution_count": 15,
   "id": "4ab48f58",
   "metadata": {},
   "outputs": [],
   "source": [
    "# Replacing all NaN's with Data not available \n",
    "# After checking the website came to below conclusion as there is\n",
    "# no data available on the website for the particular row \n",
    "\n",
    "df.head()\n",
    "nan_value = 'Data not available'\n",
    "df.fillna(nan_value,inplace=True)"
   ]
  },
  {
   "cell_type": "code",
   "execution_count": 16,
   "id": "7104dfdb",
   "metadata": {},
   "outputs": [
    {
     "data": {
      "text/plain": [
       "show_id         0\n",
       "title           0\n",
       "director        0\n",
       "cast            0\n",
       "country         0\n",
       "date_added      0\n",
       "release_year    0\n",
       "rating          0\n",
       "duration        0\n",
       "listed_in       0\n",
       "description     0\n",
       "type            0\n",
       "dtype: int64"
      ]
     },
     "execution_count": 16,
     "metadata": {},
     "output_type": "execute_result"
    }
   ],
   "source": [
    "df.isnull().sum()"
   ]
  },
  {
   "cell_type": "code",
   "execution_count": 17,
   "id": "5143000d",
   "metadata": {},
   "outputs": [
    {
     "data": {
      "text/html": [
       "<div>\n",
       "<style scoped>\n",
       "    .dataframe tbody tr th:only-of-type {\n",
       "        vertical-align: middle;\n",
       "    }\n",
       "\n",
       "    .dataframe tbody tr th {\n",
       "        vertical-align: top;\n",
       "    }\n",
       "\n",
       "    .dataframe thead th {\n",
       "        text-align: right;\n",
       "    }\n",
       "</style>\n",
       "<table border=\"1\" class=\"dataframe\">\n",
       "  <thead>\n",
       "    <tr style=\"text-align: right;\">\n",
       "      <th></th>\n",
       "      <th>show_id</th>\n",
       "      <th>title</th>\n",
       "      <th>director</th>\n",
       "      <th>cast</th>\n",
       "      <th>country</th>\n",
       "      <th>date_added</th>\n",
       "      <th>release_year</th>\n",
       "      <th>rating</th>\n",
       "      <th>duration</th>\n",
       "      <th>listed_in</th>\n",
       "      <th>description</th>\n",
       "      <th>type</th>\n",
       "    </tr>\n",
       "  </thead>\n",
       "  <tbody>\n",
       "    <tr>\n",
       "      <th>count</th>\n",
       "      <td>5.837000e+03</td>\n",
       "      <td>5837</td>\n",
       "      <td>5837</td>\n",
       "      <td>5837</td>\n",
       "      <td>5837</td>\n",
       "      <td>5837</td>\n",
       "      <td>5837.000000</td>\n",
       "      <td>5837</td>\n",
       "      <td>5837</td>\n",
       "      <td>5837</td>\n",
       "      <td>5837</td>\n",
       "      <td>5837</td>\n",
       "    </tr>\n",
       "    <tr>\n",
       "      <th>unique</th>\n",
       "      <td>NaN</td>\n",
       "      <td>5780</td>\n",
       "      <td>3109</td>\n",
       "      <td>5088</td>\n",
       "      <td>528</td>\n",
       "      <td>1093</td>\n",
       "      <td>NaN</td>\n",
       "      <td>15</td>\n",
       "      <td>194</td>\n",
       "      <td>449</td>\n",
       "      <td>5829</td>\n",
       "      <td>2</td>\n",
       "    </tr>\n",
       "    <tr>\n",
       "      <th>top</th>\n",
       "      <td>NaN</td>\n",
       "      <td>Tunnel</td>\n",
       "      <td>Data not available</td>\n",
       "      <td>Data not available</td>\n",
       "      <td>United States</td>\n",
       "      <td>Data not available</td>\n",
       "      <td>NaN</td>\n",
       "      <td>TV-MA</td>\n",
       "      <td>1 Season</td>\n",
       "      <td>Documentaries</td>\n",
       "      <td>A surly septuagenarian gets another chance at ...</td>\n",
       "      <td>Movie</td>\n",
       "    </tr>\n",
       "    <tr>\n",
       "      <th>freq</th>\n",
       "      <td>NaN</td>\n",
       "      <td>3</td>\n",
       "      <td>1901</td>\n",
       "      <td>556</td>\n",
       "      <td>1907</td>\n",
       "      <td>642</td>\n",
       "      <td>NaN</td>\n",
       "      <td>1937</td>\n",
       "      <td>1259</td>\n",
       "      <td>297</td>\n",
       "      <td>3</td>\n",
       "      <td>3939</td>\n",
       "    </tr>\n",
       "    <tr>\n",
       "      <th>mean</th>\n",
       "      <td>7.730079e+07</td>\n",
       "      <td>NaN</td>\n",
       "      <td>NaN</td>\n",
       "      <td>NaN</td>\n",
       "      <td>NaN</td>\n",
       "      <td>NaN</td>\n",
       "      <td>2013.688539</td>\n",
       "      <td>NaN</td>\n",
       "      <td>NaN</td>\n",
       "      <td>NaN</td>\n",
       "      <td>NaN</td>\n",
       "      <td>NaN</td>\n",
       "    </tr>\n",
       "    <tr>\n",
       "      <th>std</th>\n",
       "      <td>9.479777e+06</td>\n",
       "      <td>NaN</td>\n",
       "      <td>NaN</td>\n",
       "      <td>NaN</td>\n",
       "      <td>NaN</td>\n",
       "      <td>NaN</td>\n",
       "      <td>8.419088</td>\n",
       "      <td>NaN</td>\n",
       "      <td>NaN</td>\n",
       "      <td>NaN</td>\n",
       "      <td>NaN</td>\n",
       "      <td>NaN</td>\n",
       "    </tr>\n",
       "    <tr>\n",
       "      <th>min</th>\n",
       "      <td>2.698800e+05</td>\n",
       "      <td>NaN</td>\n",
       "      <td>NaN</td>\n",
       "      <td>NaN</td>\n",
       "      <td>NaN</td>\n",
       "      <td>NaN</td>\n",
       "      <td>1925.000000</td>\n",
       "      <td>NaN</td>\n",
       "      <td>NaN</td>\n",
       "      <td>NaN</td>\n",
       "      <td>NaN</td>\n",
       "      <td>NaN</td>\n",
       "    </tr>\n",
       "    <tr>\n",
       "      <th>25%</th>\n",
       "      <td>8.004520e+07</td>\n",
       "      <td>NaN</td>\n",
       "      <td>NaN</td>\n",
       "      <td>NaN</td>\n",
       "      <td>NaN</td>\n",
       "      <td>NaN</td>\n",
       "      <td>2013.000000</td>\n",
       "      <td>NaN</td>\n",
       "      <td>NaN</td>\n",
       "      <td>NaN</td>\n",
       "      <td>NaN</td>\n",
       "      <td>NaN</td>\n",
       "    </tr>\n",
       "    <tr>\n",
       "      <th>50%</th>\n",
       "      <td>8.016353e+07</td>\n",
       "      <td>NaN</td>\n",
       "      <td>NaN</td>\n",
       "      <td>NaN</td>\n",
       "      <td>NaN</td>\n",
       "      <td>NaN</td>\n",
       "      <td>2016.000000</td>\n",
       "      <td>NaN</td>\n",
       "      <td>NaN</td>\n",
       "      <td>NaN</td>\n",
       "      <td>NaN</td>\n",
       "      <td>NaN</td>\n",
       "    </tr>\n",
       "    <tr>\n",
       "      <th>75%</th>\n",
       "      <td>8.024188e+07</td>\n",
       "      <td>NaN</td>\n",
       "      <td>NaN</td>\n",
       "      <td>NaN</td>\n",
       "      <td>NaN</td>\n",
       "      <td>NaN</td>\n",
       "      <td>2018.000000</td>\n",
       "      <td>NaN</td>\n",
       "      <td>NaN</td>\n",
       "      <td>NaN</td>\n",
       "      <td>NaN</td>\n",
       "      <td>NaN</td>\n",
       "    </tr>\n",
       "    <tr>\n",
       "      <th>max</th>\n",
       "      <td>8.122720e+07</td>\n",
       "      <td>NaN</td>\n",
       "      <td>NaN</td>\n",
       "      <td>NaN</td>\n",
       "      <td>NaN</td>\n",
       "      <td>NaN</td>\n",
       "      <td>2020.000000</td>\n",
       "      <td>NaN</td>\n",
       "      <td>NaN</td>\n",
       "      <td>NaN</td>\n",
       "      <td>NaN</td>\n",
       "      <td>NaN</td>\n",
       "    </tr>\n",
       "  </tbody>\n",
       "</table>\n",
       "</div>"
      ],
      "text/plain": [
       "             show_id   title            director                cast  \\\n",
       "count   5.837000e+03    5837                5837                5837   \n",
       "unique           NaN    5780                3109                5088   \n",
       "top              NaN  Tunnel  Data not available  Data not available   \n",
       "freq             NaN       3                1901                 556   \n",
       "mean    7.730079e+07     NaN                 NaN                 NaN   \n",
       "std     9.479777e+06     NaN                 NaN                 NaN   \n",
       "min     2.698800e+05     NaN                 NaN                 NaN   \n",
       "25%     8.004520e+07     NaN                 NaN                 NaN   \n",
       "50%     8.016353e+07     NaN                 NaN                 NaN   \n",
       "75%     8.024188e+07     NaN                 NaN                 NaN   \n",
       "max     8.122720e+07     NaN                 NaN                 NaN   \n",
       "\n",
       "              country          date_added  release_year rating  duration  \\\n",
       "count            5837                5837   5837.000000   5837      5837   \n",
       "unique            528                1093           NaN     15       194   \n",
       "top     United States  Data not available           NaN  TV-MA  1 Season   \n",
       "freq             1907                 642           NaN   1937      1259   \n",
       "mean              NaN                 NaN   2013.688539    NaN       NaN   \n",
       "std               NaN                 NaN      8.419088    NaN       NaN   \n",
       "min               NaN                 NaN   1925.000000    NaN       NaN   \n",
       "25%               NaN                 NaN   2013.000000    NaN       NaN   \n",
       "50%               NaN                 NaN   2016.000000    NaN       NaN   \n",
       "75%               NaN                 NaN   2018.000000    NaN       NaN   \n",
       "max               NaN                 NaN   2020.000000    NaN       NaN   \n",
       "\n",
       "            listed_in                                        description  \\\n",
       "count            5837                                               5837   \n",
       "unique            449                                               5829   \n",
       "top     Documentaries  A surly septuagenarian gets another chance at ...   \n",
       "freq              297                                                  3   \n",
       "mean              NaN                                                NaN   \n",
       "std               NaN                                                NaN   \n",
       "min               NaN                                                NaN   \n",
       "25%               NaN                                                NaN   \n",
       "50%               NaN                                                NaN   \n",
       "75%               NaN                                                NaN   \n",
       "max               NaN                                                NaN   \n",
       "\n",
       "         type  \n",
       "count    5837  \n",
       "unique      2  \n",
       "top     Movie  \n",
       "freq     3939  \n",
       "mean      NaN  \n",
       "std       NaN  \n",
       "min       NaN  \n",
       "25%       NaN  \n",
       "50%       NaN  \n",
       "75%       NaN  \n",
       "max       NaN  "
      ]
     },
     "execution_count": 17,
     "metadata": {},
     "output_type": "execute_result"
    }
   ],
   "source": [
    "df.describe(include='all')"
   ]
  },
  {
   "cell_type": "code",
   "execution_count": 18,
   "id": "be62dad8",
   "metadata": {},
   "outputs": [
    {
     "data": {
      "text/plain": [
       "Text(0, 0.5, 'Rating')"
      ]
     },
     "execution_count": 18,
     "metadata": {},
     "output_type": "execute_result"
    },
    {
     "data": {
      "image/png": "[encoded data removed]",
      "text/plain": [
       "<Figure size 640x480 with 1 Axes>"
      ]
     },
     "metadata": {},
     "output_type": "display_data"
    }
   ],
   "source": [
    "#Task 1: Plot a graph showing number of contents on Netflix based on Rating.\n",
    "\n",
    "ypos = (df['rating'].value_counts().sort_values(ascending=True))\n",
    "ypos.plot(kind='barh',color ='m')\n",
    "plt.title('Content on NETFLIX Based on Rating')\n",
    "plt.xlabel('Count of Movies/Tvshows')\n",
    "plt.ylabel('Rating')"
   ]
  },
  {
   "cell_type": "code",
   "execution_count": 19,
   "id": "c22cd006",
   "metadata": {},
   "outputs": [
    {
     "data": {
      "text/plain": [
       "<Axes: ylabel='type,rating'>"
      ]
     },
     "execution_count": 19,
     "metadata": {},
     "output_type": "execute_result"
    },
    {
     "data": {
      "image/png": "[encoded data removed]",
      "text/plain": [
       "<Figure size 640x480 with 1 Axes>"
      ]
     },
     "metadata": {},
     "output_type": "display_data"
    }
   ],
   "source": [
    "#Task 2: Plot a graph showing the number of TV Shows and Movies across different type of Rating.\n",
    "\n",
    "df['rating'].groupby(df['type']).value_counts().plot(kind='barh',color='turquoise')\n"
   ]
  },
  {
   "cell_type": "code",
   "execution_count": 20,
   "id": "ac362620",
   "metadata": {},
   "outputs": [
    {
     "data": {
      "text/plain": [
       "United States                                           1907\n",
       "India                                                    697\n",
       "Data not available                                       427\n",
       "United Kingdom                                           336\n",
       "Japan                                                    168\n",
       "                                                        ... \n",
       "Norway, Denmark, Netherlands, Sweden                       1\n",
       "Ireland, United Kingdom, Greece, France, Netherlands       1\n",
       "Israel, Germany                                            1\n",
       "Canada, Germany, France, United States                     1\n",
       "Spain, Mexico, France                                      1\n",
       "Name: country, Length: 528, dtype: int64"
      ]
     },
     "execution_count": 20,
     "metadata": {},
     "output_type": "execute_result"
    }
   ],
   "source": [
    "#Task 3: Compare India, US, Japan, Spain, UK & Canada to check which country produces highest TV Show and Movies.\n",
    "\n",
    "df['country'].value_counts()"
   ]
  },
  {
   "cell_type": "markdown",
   "id": "a3e45934",
   "metadata": {},
   "source": [
    "#### From the above output we can see that country names are seperated by commas for a particular row hence we got to split it and then strip off the white spaces and then take a count \n"
   ]
  },
  {
   "cell_type": "code",
   "execution_count": 35,
   "id": "7ab9877a",
   "metadata": {},
   "outputs": [
    {
     "data": {
      "image/png": "[encoded data removed]",
      "text/plain": [
       "<Figure size 700x500 with 1 Axes>"
      ]
     },
     "metadata": {},
     "output_type": "display_data"
    }
   ],
   "source": [
    "#Task 3: Compare India, US, Japan, Spain, UK & Canada to check which country produces highest TV Show and Movies.\n",
    "country_compare = df.set_index('title').country.str.split(',', expand=True).stack().reset_index(level=1, drop=True);\n",
    "country_compare = country_compare.str.strip()\n",
    "country_compare = country_compare[country_compare != 'Data not available']\n",
    "plt.figure(figsize=(7,5))\n",
    "g = sns.countplot(y = country_compare, order=country_compare.value_counts().index[:7])\n",
    "plt.title('Top 7 Countries Contributor on Netflix')\n",
    "plt.xlabel('Number of TV Show and Movies')\n",
    "plt.ylabel('Countries')\n",
    "plt.show()"
   ]
  },
  {
   "cell_type": "code",
   "execution_count": 33,
   "id": "acab5f5d",
   "metadata": {},
   "outputs": [
    {
     "data": {
      "image/png": "[encoded data removed]",
      "text/plain": [
       "<Figure size 640x480 with 1 Axes>"
      ]
     },
     "metadata": {},
     "output_type": "display_data"
    }
   ],
   "source": [
    "genres_count = df.set_index('title').listed_in.str.split(', ', expand=True).stack().reset_index(level=1, drop=True);\n",
    "g = sns.countplot(y = genres_count, order=genres_count.value_counts().index[:10])\n",
    "plt.title('Top 10 Genres on Netflix')\n",
    "plt.xlabel('Count of Genres')\n",
    "plt.ylabel('Genres')\n",
    "plt.show()"
   ]
  },
  {
   "cell_type": "markdown",
   "id": "cc921c90",
   "metadata": {},
   "source": [
    "### Task 4: Plot a graph showing the number of TV Shows and Movies added to Netflix every year."
   ]
  },
  {
   "cell_type": "code",
   "execution_count": 25,
   "id": "ec295190",
   "metadata": {},
   "outputs": [
    {
     "data": {
      "text/plain": [
       "2018    1040\n",
       "2017     928\n",
       "2016     818\n",
       "2019     762\n",
       "2015     502\n",
       "        ... \n",
       "1955       1\n",
       "1956       1\n",
       "1947       1\n",
       "2020       1\n",
       "1954       1\n",
       "Name: release_year, Length: 71, dtype: int64"
      ]
     },
     "execution_count": 25,
     "metadata": {},
     "output_type": "execute_result"
    }
   ],
   "source": [
    "a =df['release_year'].value_counts()\n",
    "a"
   ]
  },
  {
   "cell_type": "code",
   "execution_count": 26,
   "id": "60b56626",
   "metadata": {},
   "outputs": [
    {
     "data": {
      "text/plain": [
       "<Axes: xlabel='release_year', ylabel='Count'>"
      ]
     },
     "execution_count": 26,
     "metadata": {},
     "output_type": "execute_result"
    },
    {
     "data": {
      "image/png": "[encoded data removed]",
      "text/plain": [
       "<Figure size 640x480 with 1 Axes>"
      ]
     },
     "metadata": {},
     "output_type": "display_data"
    }
   ],
   "source": [
    "sns.histplot(data=df,x='release_year',hue='type')"
   ]
  },
  {
   "cell_type": "code",
   "execution_count": 27,
   "id": "1a68e28c",
   "metadata": {},
   "outputs": [
    {
     "data": {
      "text/plain": [
       "(2014.0, 2020.0)"
      ]
     },
     "execution_count": 27,
     "metadata": {},
     "output_type": "execute_result"
    },
    {
     "data": {
      "image/png": "[encoded data removed]",
      "text/plain": [
       "<Figure size 640x480 with 2 Axes>"
      ]
     },
     "metadata": {},
     "output_type": "display_data"
    }
   ],
   "source": [
    "fig, ax = plt.subplots()\n",
    "sns.ecdfplot(data=df,x='release_year',hue='type', ax=ax ,stat='count')\n",
    "\n",
    "ax2 = plt.axes([1.1, 0.4, .5, .5], facecolor='y')\n",
    "sns.ecdfplot(data=df,x='release_year',hue='type', ax=ax2 ,stat='count')\n",
    "ax2.set_title('zoom')\n",
    "ax2.set_xlim([2014,2020])"
   ]
  },
  {
   "cell_type": "markdown",
   "id": "145c4130",
   "metadata": {},
   "source": [
    "####  Above ECDF plot shows how there was an increase in movies and tv shows. The zoomed plot show how there is a sudden increase in movies from 2014 - 2020 on Netflix. Though there is increase in tv shows also but it's not a sudden change "
   ]
  },
  {
   "cell_type": "markdown",
   "id": "7ae2a6c5",
   "metadata": {},
   "source": [
    "### Task 5: In 2019, Find out if Netflix has added more TV Shows or Movies to their platform and represent the same visually."
   ]
  },
  {
   "cell_type": "code",
   "execution_count": 55,
   "id": "20e48509",
   "metadata": {},
   "outputs": [
    {
     "data": {
      "text/plain": [
       "<Figure size 200x400 with 0 Axes>"
      ]
     },
     "execution_count": 55,
     "metadata": {},
     "output_type": "execute_result"
    },
    {
     "data": {
      "image/png": "[encoded data removed]",
      "text/plain": [
       "<Figure size 640x480 with 1 Axes>"
      ]
     },
     "metadata": {},
     "output_type": "display_data"
    },
    {
     "data": {
      "text/plain": [
       "<Figure size 200x400 with 0 Axes>"
      ]
     },
     "metadata": {},
     "output_type": "display_data"
    }
   ],
   "source": [
    "x = df[df['release_year'] == 2019]\n",
    "#y = df.type[df['release_year'] == 2019].value_counts()\n",
    "x['type'].value_counts().plot(kind='bar',color = 'Teal')\n",
    "plt.figure(figsize=(2,4),)\n",
    "\n"
   ]
  },
  {
   "cell_type": "code",
   "execution_count": null,
   "id": "0fbe175b",
   "metadata": {},
   "outputs": [],
   "source": []
  }
 ],
 "metadata": {
  "kernelspec": {
   "display_name": "Python 3 (ipykernel)",
   "language": "python",
   "name": "python3"
  },
  "language_info": {
   "codemirror_mode": {
    "name": "ipython",
    "version": 3
   },
   "file_extension": ".py",
   "mimetype": "text/x-python",
   "name": "python",
   "nbconvert_exporter": "python",
   "pygments_lexer": "ipython3",
   "version": "3.9.16"
  }
 },
 "nbformat": 4,
 "nbformat_minor": 5
}
